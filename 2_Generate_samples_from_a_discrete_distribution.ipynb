{
  "nbformat": 4,
  "nbformat_minor": 0,
  "metadata": {
    "colab": {
      "provenance": [],
      "authorship_tag": "ABX9TyO6hXTggIvv9rZ+7c+vJSWE",
      "include_colab_link": true
    },
    "kernelspec": {
      "name": "python3",
      "display_name": "Python 3"
    },
    "language_info": {
      "name": "python"
    }
  },
  "cells": [
    {
      "cell_type": "markdown",
      "metadata": {
        "id": "view-in-github",
        "colab_type": "text"
      },
      "source": [
        "<a href=\"https://colab.research.google.com/github/Frutta111/Deep-Learning-In-PyTorch/blob/main/2_Generate_samples_from_a_discrete_distribution.ipynb\" target=\"_parent\"><img src=\"https://colab.research.google.com/assets/colab-badge.svg\" alt=\"Open In Colab\"/></a>"
      ]
    },
    {
      "cell_type": "markdown",
      "source": [
        "#**Generate samples from a discrete distribution**\n"
      ],
      "metadata": {
        "id": "5VUHu0lnQXLY"
      }
    },
    {
      "cell_type": "markdown",
      "source": [
        "5/4/2024"
      ],
      "metadata": {
        "id": "S3sx_CQP4PsY"
      }
    },
    {
      "cell_type": "markdown",
      "source": [
        "In this notebook, we will demonstrate how to create a tensor constructor that samples random numbers from a discrete distribution, which it receives as input.\n",
        "\n",
        "We will see two different ways of implementation:\n",
        "\n",
        "1.   Using the direct computation of the Cumulative Distribution Function (CDF)\n",
        "2.   Using alias method which is a family of efficient algorithms for sampling from a discrete probability distribution. For more details [click here](https://en.wikipedia.org/wiki/Alias_method#Table_generation)\n"
      ],
      "metadata": {
        "id": "I2inctTj4mt0"
      }
    },
    {
      "cell_type": "markdown",
      "source": [
        "### Method 1 - use the Cumulative Distribution Function (CDF) to sample\n",
        "\n",
        "To use the Cumulative Distribution Function (CDF) for sampling random numbers from a discrete distribution, follow these steps:\n",
        "\n",
        "1. Define the Discrete Distribution: Start with a list of probabilities associated with each possible value in the distribution. Ensure that these probabilities sum to 1.\n",
        "\n",
        "2. Compute the CDF: Construct the CDF by accumulating the probabilities. This means each entry in the CDF will represent the sum of all previous probabilities up to that point.\n",
        "\n",
        "3. Generate a Uniform Random Number: Generate a random number from a uniform distribution between 0 and 1. This random number will be used to sample from the CDF.\n",
        "\n",
        "4. Map the Random Number to the Discrete Value: Find the smallest value in the CDF that is greater than or equal to the generated random number. The corresponding value in the original discrete distribution is the sampled value.\n",
        "\n",
        "5. Repeat for Multiple Samples: Repeat the process for each sample needed to construct the tensor.\n",
        "\n",
        "\n"
      ],
      "metadata": {
        "id": "5DyKv3Kw4tiH"
      }
    },
    {
      "cell_type": "code",
      "source": [
        "import torch\n",
        "import matplotlib.pyplot as plt"
      ],
      "metadata": {
        "id": "Q3m-iFxFXH29"
      },
      "execution_count": null,
      "outputs": []
    },
    {
      "cell_type": "markdown",
      "source": [
        "#### The function"
      ],
      "metadata": {
        "id": "oPSxt4_hWTAP"
      }
    },
    {
      "cell_type": "markdown",
      "source": [
        "The function `my_sampler(size,dist,requires_grad=False)` returns a tensor of size  `size`, containing numbers sampled from the `dist` distribution, where dist[i] is the probability of sampling the number i.\n",
        "\n",
        "The arguments:\n",
        "*   `size`: the size of the output tensor containing the sampled values\n",
        "*   `dist`: the probabilities of each category\n",
        "*   `requires_grad`: a boolean indicating whether gradients should be computed for the sampled tensor\n",
        "\n",
        "Guidelines:\n",
        "1.   The input vector `dist` must hold:  contains probabilities that sum-up to one, and every term in the vector is not negative.\n",
        "2.  If the `requires_grad` parameter receives a true value, it will be returned as a tensor output which system automatic derivation follows.\n",
        "\n",
        "The algorithm:\n",
        "1.   Generate random numbers x from a uniform distribution U(0,1).\n",
        "2.   Compute the cumulative distribution function (CDF) of the input distribution dist.\n",
        "3.   Iterate through the CDF to determine which values were sampled based on the random number.\n",
        "4.   Turns on autograd for the sampled tensor if requires_grad is set to True, allowing gradients to be computed for this tensor.\n",
        "\n"
      ],
      "metadata": {
        "id": "KiXntZ22N7WB"
      }
    },
    {
      "cell_type": "code",
      "source": [
        "import torch\n",
        "\n",
        "def my_sampler(size, dist, requires_grad=False) :\n",
        "\n",
        "  \"\"\"\n",
        "  Samples random numbers from a discrete distribution to create a tensor.\n",
        "\n",
        "  Args:\n",
        "      size (int or tuple): The shape of the tensor to be created.\n",
        "      dist (list or torch.Tensor): The discrete probability distribution from which to sample.\n",
        "      requires_grad (bool): If autograd should record operations on the returned tensor. Default is False.\n",
        "\n",
        "  Returns:\n",
        "      torch.Tensor: A tensor of sampled values from the discrete distribution.\n",
        "  \"\"\"\n",
        "\n",
        "  # convert *size* to a tuple only if it contains a number\n",
        "  if isinstance(size, int):\n",
        "    size = (size,)\n",
        "\n",
        "  # convert *dist* to a tensor\n",
        "  if not isinstance(dist, torch.Tensor):\n",
        "    dist = torch.tensor(dist)\n",
        "\n",
        "  # Check if the input distribution is a valid probability distribution\n",
        "  assert ((dist >= 0).all() and len(dist.shape) == 1 and dist.sum() == 1),'dist must be a vector with positive elements that summarize to 1'\n",
        "\n",
        "  x = torch.rand(size = size) # Generate random numbers of U(0,1) distribution\n",
        "  CDF = dist.cumsum(dim=0) # Compute the cumulative density/distribution function of the input distribution\n",
        "\n",
        "  s = torch.zeros(size)  # Initialize the tensor to store the sampled values\n",
        "\n",
        "  # Iterate through the CDF to determine the sampled values\n",
        "  for i in range(dist.numel()-1):\n",
        "    s[(x >= CDF[i]) & (x < CDF[i+1])] = i + 1\n",
        "\n",
        "  s.requires_grad_(requires_grad) #turn on autograd to begin recording operations on s\n",
        "\n",
        "  return s"
      ],
      "metadata": {
        "id": "VWZZBZFj0QS1"
      },
      "execution_count": 2,
      "outputs": []
    },
    {
      "cell_type": "markdown",
      "source": [
        "####Usage Examples"
      ],
      "metadata": {
        "id": "s99BpcePOOzY"
      }
    },
    {
      "cell_type": "markdown",
      "source": [
        "Example 1:\n",
        "\n",
        "Sampling 10 values from a discrete probability distribution with two outcomes, each having a probability of 0.5."
      ],
      "metadata": {
        "id": "3DokiGGJYLiZ"
      }
    },
    {
      "cell_type": "code",
      "source": [
        "size = 10\n",
        "dist = torch.tensor([.5, .5])\n",
        "my_sampler(size, dist)"
      ],
      "metadata": {
        "colab": {
          "base_uri": "https://localhost:8080/"
        },
        "id": "M7xAiu6qOzEE",
        "outputId": "128b593d-2f38-4393-a78b-861d30a4cc37"
      },
      "execution_count": 4,
      "outputs": [
        {
          "output_type": "execute_result",
          "data": {
            "text/plain": [
              "tensor([0., 1., 0., 0., 1., 1., 1., 0., 1., 1.])"
            ]
          },
          "metadata": {},
          "execution_count": 4
        }
      ]
    },
    {
      "cell_type": "markdown",
      "source": [
        "Example 2:\n",
        "\n",
        "Sampling 2X8 units from a Multi-Class Discrete Distribution with Gradient Tracking with three outcomes with probability of : 0.1, 0.2, and 0.7."
      ],
      "metadata": {
        "id": "p9WwjiokYkBj"
      }
    },
    {
      "cell_type": "code",
      "source": [
        "A = my_sampler((2,8), [0.1, 0.2, 0.7], requires_grad=True)\n",
        "print(A , A.grad , sep = '\\n')"
      ],
      "metadata": {
        "colab": {
          "base_uri": "https://localhost:8080/"
        },
        "id": "OMZ7g5ffQbo3",
        "outputId": "1a9ea709-3597-4d3d-e17a-e2513a4c57f4"
      },
      "execution_count": 3,
      "outputs": [
        {
          "output_type": "stream",
          "name": "stdout",
          "text": [
            "tensor([[1., 2., 2., 2., 0., 2., 2., 2.],\n",
            "        [1., 2., 2., 2., 0., 2., 2., 1.]], requires_grad=True)\n",
            "None\n"
          ]
        }
      ]
    },
    {
      "cell_type": "markdown",
      "source": [
        "Example 3:\n",
        "\n",
        "Distribution vector is not valid"
      ],
      "metadata": {
        "id": "cP7WjO4ZZzu9"
      }
    },
    {
      "cell_type": "code",
      "source": [
        "try:\n",
        "    A = my_sampler((2, 8), [0.1, 0.2, 0.6], requires_grad=True)\n",
        "    print(A, A.grad, sep='\\n')\n",
        "except AssertionError as e:\n",
        "    print(f\"AssertionError: {e}\")"
      ],
      "metadata": {
        "colab": {
          "base_uri": "https://localhost:8080/"
        },
        "id": "ZSsit8dxtn4N",
        "outputId": "f5f5866f-49fe-4625-9cdc-e759b118138a"
      },
      "execution_count": 5,
      "outputs": [
        {
          "output_type": "stream",
          "name": "stdout",
          "text": [
            "AssertionError: dist must be a vector with positive elements that summarize to 1\n"
          ]
        }
      ]
    },
    {
      "cell_type": "markdown",
      "source": [
        "####Histogram of probability"
      ],
      "metadata": {
        "id": "caBiKwk4Ww4c"
      }
    },
    {
      "cell_type": "markdown",
      "source": [
        "Let's check if the function `my_sampler` that we wrote correctly implements the sampling. We will do this by comparing the distribution of the samples to those obtained from PyTorch's built-in function [`torch.multinomial`](https://pytorch.org/docs/stable/generated/torch.multinomial.html#torch-multinomial).\n",
        "\n",
        "We will visualize the outcomes by histogram plots for comparison.\n",
        "\n",
        "The function `plot_histogram` is designed to visualize the distributions and samples obtained from two different methods:`torch.multinomial` and a custom sampler. It provides a convenient way to compare the distributions and helps in assessing the effectiveness and accuracy of the custom sampler compared to the built-in method.\n",
        "\n",
        "The arguments:\n",
        "1.   `dist` a vector representing the distribution\n",
        "2.   `my_multinomial_sample` - tensor containing samples generated from a custom sampler.\n",
        "\n",
        "Function Description:\n",
        "1.   Generates samples from the distribution dist using t`orch.multinomial(dist, size, replacement=True)`. where `size` is the number of elements of the input tensor\n",
        "2.   Plotts side by side using Matplotlib two histograms"
      ],
      "metadata": {
        "id": "7S-bTH4pLir_"
      }
    },
    {
      "cell_type": "code",
      "source": [
        "import matplotlib.pyplot as plt\n",
        "\n",
        "# Setting the Y axis\n",
        "def get_max_freq(multinomial_sample1 , multinomial_sample2 ):\n",
        "  ''' Find the maximum frequency of a sample '''\n",
        "  unique_elements1, counts1 = torch.unique(multinomial_sample1, return_counts=True) # Get unique elements and their counts\n",
        "  unique_elements2, counts2 = torch.unique(multinomial_sample2, return_counts=True) # Get unique elements and their counts\n",
        "  return  max(counts1.max().item() ,  counts2.max().item())\n",
        "\n",
        "# Plotting the histograms\n",
        "def plot_histogram(dist, my_multinomial_sample):\n",
        "\n",
        "  size = torch.numel(my_multinomial_sample)\n",
        "\n",
        "  multinomial_sample = torch.multinomial(dist, size, replacement=True)\n",
        "\n",
        "  maxfreq = get_max_freq(my_multinomial_sample,multinomial_sample) * 1.1\n",
        "\n",
        "  plt.figure(figsize=(10, 5))  # Plot the histograms side by side\n",
        "\n",
        "  plt.subplot(1, 2, 1)\n",
        "  plt.hist(multinomial_sample, bins=len(dist), align='mid', rwidth=0.8, range=(-0.5, len(dist)-0.5))\n",
        "  plt.xlabel('Index')\n",
        "  plt.ylabel('Frequency')\n",
        "  plt.title('Histogram of Multinomial Sample \\nTorch.multinomial ')\n",
        "  plt.xticks(range(len(dist))) #sets the tick positions on the x-axis of the histogram.\n",
        "  plt.ylim(0, maxfreq)  # Set y-axis limits\n",
        "  plt.grid(axis='y', alpha=0.75) # adds grid lines along the y-axis with transparency level of  0.75\n",
        "\n",
        "  plt.subplot(1, 2, 2)\n",
        "  plt.hist(my_multinomial_sample, bins=len(dist), align='mid', rwidth=0.8, range=(-0.5, len(dist)-0.5))\n",
        "  plt.xlabel('Index')\n",
        "  plt.ylabel('Frequency')\n",
        "  plt.title('Histogram of Multinomial Sample \\nMy costum sampler')\n",
        "  plt.xticks(range(len(dist))) #sets the tick positions on the x-axis of the histogram.\n",
        "  plt.ylim(0, maxfreq)  # Set y-axis limits\n",
        "  plt.grid(axis='y', alpha=0.75) # adds grid lines along the y-axis with transparency level of  0.75\n",
        "\n",
        "  plt.tight_layout()  # Adjust subplots to prevent overlap\n",
        "  plt.show()"
      ],
      "metadata": {
        "id": "YEE3mVe0mF63"
      },
      "execution_count": 6,
      "outputs": []
    },
    {
      "cell_type": "markdown",
      "source": [
        "Example:"
      ],
      "metadata": {
        "id": "8X51xI5QdzBj"
      }
    },
    {
      "cell_type": "code",
      "source": [
        "dist = torch.tensor([.1, .2, .7])\n",
        "size = 1000\n",
        "my_multinomial_sample = my_sampler(size, dist)\n",
        "plot_histogram(dist, my_multinomial_sample)\n"
      ],
      "metadata": {
        "colab": {
          "base_uri": "https://localhost:8080/",
          "height": 506
        },
        "id": "fw54CdsROOKW",
        "outputId": "a070620d-a800-4c5c-fbbd-bdb36634fea5"
      },
      "execution_count": 9,
      "outputs": [
        {
          "output_type": "display_data",
          "data": {
            "text/plain": [
              "<Figure size 1000x500 with 2 Axes>"
            ],
            "image/png": "[encoded data removed]"
          },
          "metadata": {}
        }
      ]
    },
    {
      "cell_type": "markdown",
      "source": [
        "###Method 2 - Use the Alias method to sample\n"
      ],
      "metadata": {
        "id": "O07S_A7MhHAf"
      }
    },
    {
      "cell_type": "markdown",
      "source": [
        "The function `my_alias_sampler(size,dist,requires_grad=False)` returns a tensor of size  `size`, containing numbers sampled from the `dist` distribution, where dist[i] is the probability of sampling the number i.\n",
        "\n",
        "The arguments:\n",
        "*   `size`: the size of the output tensor containing the sampled values\n",
        "*   `dist`: the probabilities of each category\n",
        "*   `requires_grad`: a boolean indicating whether gradients should be computed for the sampled tensor\n",
        "\n",
        "Guidelines:\n",
        "1.   The input vector `dist` must hold:  contains probabilities that sum-up to one, and every term in the vector is not negative.\n",
        "2.  If the `requires_grad` parameter receives a true value, it will be returned as a tensor output which system automatic derivation follows.\n",
        "\n",
        "The algorithm: [click here](https://en.wikipedia.org/wiki/Alias_method#Table_generation)\n",
        "\n",
        "I tried to choose as much as possible the markings and definitions listed in the article. It should be noted that in the article the values ​​of the discrete random variable range between 1 and n, while in the implementation between 0 and (n-1)"
      ],
      "metadata": {
        "id": "p5l6Qlzay3oL"
      }
    },
    {
      "cell_type": "code",
      "source": [
        "import torch\n",
        "import math"
      ],
      "metadata": {
        "id": "w_zm3SclfEMG"
      },
      "execution_count": 10,
      "outputs": []
    },
    {
      "cell_type": "code",
      "source": [
        "# pad_distribution is an utility function for function \"my_alias_sampler\"\n",
        "def pad_distribution(dist):\n",
        "    '''\n",
        "    Pad the distribution dist with additional probabilities\n",
        "    pi = 0 to increase n to a power of two (convenient value)\n",
        "\n",
        "    Args:\n",
        "        dist (torch.Tensor or list): The probability distribution to be padded.\n",
        "\n",
        "    Returns:\n",
        "        torch.Tensor: The padded probability distribution with length as a power of two.\n",
        "    '''\n",
        "    # Calculate the nearest power of 2\n",
        "    n = math.ceil(math.log2(len(dist)))\n",
        "\n",
        "    # Calculate the number of additional probabilities needed\n",
        "    num_to_add = 2**n - len(dist)\n",
        "\n",
        "    # Create a tensor of additional probabilities with pi = 0\n",
        "    probs_to_add = torch.zeros(num_to_add)\n",
        "\n",
        "    # Pad the original distribution with additional probabilities\n",
        "    padded_dist = torch.cat([dist, probs_to_add])\n",
        "\n",
        "    return padded_dist\n",
        "\n",
        "def my_alias_sampler(size, dist, requires_grad=False) :\n",
        "    '''\n",
        "    Sample from a discrete probability distribution using the Alias Method.\n",
        "\n",
        "    Args:\n",
        "        size (tuple or int): The size of the output tensor.\n",
        "        dist (torch.Tensor or list): The probability distribution to sample from.\n",
        "        requires_grad (bool): Whether to enable gradient tracking for the output tensor.\n",
        "\n",
        "    Returns:\n",
        "        torch.Tensor: The sampled tensor of the specified size, with optional gradient tracking.\n",
        "    '''\n",
        "    # convert *size* to a tuple only if it contains a number\n",
        "    if isinstance(size, int):\n",
        "      size = (size,)\n",
        "\n",
        "    # convert *dist* to a tensor\n",
        "    if not isinstance(dist, torch.Tensor):\n",
        "      dist = torch.tensor(dist)\n",
        "\n",
        "    # Check if the input distribution is a valid probability distribution\n",
        "    assert ((dist >= 0).all() and len(dist.shape) == 1 and dist.sum() == 1),'dist must be a vector with positive elements that summarize to 1'\n",
        "\n",
        "    padded_dist = pad_distribution(dist)\n",
        "\n",
        "    n = padded_dist.numel()\n",
        "\n",
        "    # Initialize U and K\n",
        "    U = n * padded_dist\n",
        "    K = torch.full((n,), float('-inf')) # Create the tensor filled with negative infinity to represet \"not initialized\"\n",
        "\n",
        "    #As long as not all table entries are exactly full, repeat the following steps\n",
        "    # must accomplished in at most n-1 times\n",
        "    for i in range(padded_dist.numel()-1):\n",
        "        if ((U == 1.0).all() or (K >= 0).all()):\n",
        "          break;\n",
        "\n",
        "        #Arbitrarily choose an overfull entry i\n",
        "        i = torch.argmax(U).item()\n",
        "\n",
        "        #Arbitrarily choose an underfull entry j\n",
        "        mask = K < 0 # Mask where K has not been initialized\n",
        "        j = torch.argmin(torch.where(mask, U, float('inf'))).item()\n",
        "\n",
        "        K[j] = i\n",
        "        U[i] = U[i] - (1-U[j])\n",
        "\n",
        "\n",
        "    x = torch.rand( size) # Generate random numbers of U(0,1) distribution\n",
        "\n",
        "    n = padded_dist.numel()\n",
        "    i = torch.floor(n * x).long()\n",
        "    y = n * x  - i\n",
        "\n",
        "    mask = y < U[i]\n",
        "    s = torch.where(mask, i, K[i])\n",
        "\n",
        "    s.requires_grad_(requires_grad) #turn on autograd to begin recording operations on s\n",
        "    return s"
      ],
      "metadata": {
        "id": "jxcl6M1fuNWb"
      },
      "execution_count": 11,
      "outputs": []
    },
    {
      "cell_type": "markdown",
      "source": [
        "####Usage examples"
      ],
      "metadata": {
        "id": "0Ws4UgLWs0GT"
      }
    },
    {
      "cell_type": "markdown",
      "source": [
        "Example 1:\n",
        "\n",
        "Sampling 10 values from a discrete probability distribution with two outcomes, each having a probability of 0.5."
      ],
      "metadata": {
        "id": "CfAFP1NNgOLD"
      }
    },
    {
      "cell_type": "code",
      "source": [
        "size = 10\n",
        "dist = torch.tensor([.5, .5])\n",
        "my_alias_sampler(size, dist, requires_grad=False)"
      ],
      "metadata": {
        "colab": {
          "base_uri": "https://localhost:8080/"
        },
        "id": "gG2Po9JXsKa0",
        "outputId": "35b78cc8-58a2-43b1-ead4-674bd0075816"
      },
      "execution_count": 14,
      "outputs": [
        {
          "output_type": "execute_result",
          "data": {
            "text/plain": [
              "tensor([1., 1., 1., 0., 0., 1., 1., 1., 0., 1.])"
            ]
          },
          "metadata": {},
          "execution_count": 14
        }
      ]
    },
    {
      "cell_type": "markdown",
      "source": [
        "Example 2:\n",
        "\n",
        "Sampling 2X8 units from a Multi-Class Discrete Distribution with Gradient Tracking with three outcomes with probability of : 0.1, 0.2, and 0.7."
      ],
      "metadata": {
        "id": "OZvfN8ccgahb"
      }
    },
    {
      "cell_type": "code",
      "source": [
        "A = my_alias_sampler((2,8), [0.1, 0.2, 0.7], requires_grad=True)\n",
        "print(A , A.grad , sep = '\\n')"
      ],
      "metadata": {
        "colab": {
          "base_uri": "https://localhost:8080/"
        },
        "id": "Xtie_Eeutic-",
        "outputId": "d6f6ece8-3016-41b1-9e9c-e8e49c65b678"
      },
      "execution_count": 15,
      "outputs": [
        {
          "output_type": "stream",
          "name": "stdout",
          "text": [
            "tensor([[0., 1., 0., 2., 2., 2., 2., 2.],\n",
            "        [2., 0., 2., 2., 2., 1., 2., 2.]], requires_grad=True)\n",
            "None\n"
          ]
        }
      ]
    },
    {
      "cell_type": "markdown",
      "source": [
        "Example 3:\n",
        "\n",
        "Distribution vector is not valid"
      ],
      "metadata": {
        "id": "o8Wca8hrgoxc"
      }
    },
    {
      "cell_type": "code",
      "source": [
        "try:\n",
        "    A = my_alias_sampler((2, 8), [0.1, 0.2, 0.6], requires_grad=True)\n",
        "    print(A, A.grad, sep='\\n')\n",
        "except AssertionError as e:\n",
        "    print(f\"AssertionError: {e}\")\n",
        "\n"
      ],
      "metadata": {
        "colab": {
          "base_uri": "https://localhost:8080/"
        },
        "id": "7Z_K_yYBgmK8",
        "outputId": "49847383-12cd-4ddf-cfa8-4ed5735694b9"
      },
      "execution_count": 13,
      "outputs": [
        {
          "output_type": "stream",
          "name": "stdout",
          "text": [
            "AssertionError: dist must be a vector with positive elements that summarize to 1\n"
          ]
        }
      ]
    },
    {
      "cell_type": "markdown",
      "source": [
        "####Histogram of probability"
      ],
      "metadata": {
        "id": "nsBPaphheks3"
      }
    },
    {
      "cell_type": "markdown",
      "source": [
        "Let's check if the function `my_alias_sampler` that we wrote correctly implements the sampling. We will do this by comparing the distribution of the samples to those obtained from PyTorch's built-in function [`torch.multinomial`](https://pytorch.org/docs/stable/generated/torch.multinomial.html#torch-multinomial).\n",
        "\n",
        "We will visualize the outcomes by histogram plots for comparison."
      ],
      "metadata": {
        "id": "sIb-s5oVeS25"
      }
    },
    {
      "cell_type": "code",
      "source": [
        "dist = torch.tensor([.1, .2, .7])\n",
        "size = 1000\n",
        "my_multinomial_sample = my_alias_sampler(size, dist)\n",
        "plot_histogram(dist, my_multinomial_sample)"
      ],
      "metadata": {
        "colab": {
          "base_uri": "https://localhost:8080/",
          "height": 506
        },
        "id": "e-zcE5BUuKTp",
        "outputId": "28b7fdbf-86bf-4ef9-b847-f1534dc14634"
      },
      "execution_count": 12,
      "outputs": [
        {
          "output_type": "display_data",
          "data": {
            "text/plain": [
              "<Figure size 1000x500 with 2 Axes>"
            ],
            "image/png": "[encoded data removed]"
          },
          "metadata": {}
        }
      ]
    }
  ]
}